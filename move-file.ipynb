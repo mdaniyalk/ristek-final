{
 "cells": [
  {
   "cell_type": "code",
   "execution_count": 2,
   "metadata": {},
   "outputs": [],
   "source": [
    "import os\n",
    "import shutil\n",
    "from tqdm import tqdm"
   ]
  },
  {
   "cell_type": "code",
   "execution_count": 5,
   "metadata": {},
   "outputs": [
    {
     "name": "stderr",
     "output_type": "stream",
     "text": [
      " 40%|████      | 2/5 [00:00<00:00,  8.55it/s]"
     ]
    },
    {
     "name": "stdout",
     "output_type": "stream",
     "text": [
      "All files moved.\n",
      "All files moved.\n"
     ]
    },
    {
     "name": "stderr",
     "output_type": "stream",
     "text": [
      " 80%|████████  | 4/5 [00:00<00:00,  8.26it/s]"
     ]
    },
    {
     "name": "stdout",
     "output_type": "stream",
     "text": [
      "All files moved.\n",
      "All files moved.\n"
     ]
    },
    {
     "name": "stderr",
     "output_type": "stream",
     "text": [
      "100%|██████████| 5/5 [00:35<00:00,  7.07s/it]"
     ]
    },
    {
     "name": "stdout",
     "output_type": "stream",
     "text": [
      "All files moved.\n"
     ]
    },
    {
     "name": "stderr",
     "output_type": "stream",
     "text": [
      "\n"
     ]
    }
   ],
   "source": [
    "\n",
    "for i in tqdm(range(1, 6)):\n",
    "    for j in range(100, 503):\n",
    "        # Source subdirectory\n",
    "        source_subdir = f'dataset/tmp-{i}/cctv{i}_{j}'\n",
    "\n",
    "        # Destination directory\n",
    "        destination_dir = f'dataset/cctv{i}'\n",
    "\n",
    "        try:\n",
    "            tmp = os.listdir(source_subdir)\n",
    "        except:\n",
    "            tmp = []\n",
    "            \n",
    "        if (len(tmp) > 0):\n",
    "            # Iterate through files in the source subdirectory\n",
    "            for file_name in os.listdir(source_subdir):\n",
    "                source_path = os.path.join(source_subdir, file_name)\n",
    "                destination_path = os.path.join(destination_dir, file_name)\n",
    "                \n",
    "                # Move the file using shutil.move\n",
    "                shutil.move(source_path, destination_path)\n",
    "                # print(f\"File '{file_name}' moved from '{source_path}' to '{destination_path}'\")\n",
    "\n",
    "    print(\"All files moved.\")"
   ]
  },
  {
   "cell_type": "code",
   "execution_count": 6,
   "metadata": {},
   "outputs": [
    {
     "name": "stdout",
     "output_type": "stream",
     "text": [
      "len cctv1: 116820\n",
      "len cctv2: 116435\n",
      "len cctv3: 116801\n",
      "len cctv4: 116735\n",
      "len cctv5: 108003\n"
     ]
    }
   ],
   "source": [
    "for i in range(1, 6):\n",
    "    pth = f'dataset/cctv{i}'\n",
    "    print(f'len cctv{i}: {len(os.listdir(pth))}')"
   ]
  }
 ],
 "metadata": {
  "kernelspec": {
   "display_name": "base",
   "language": "python",
   "name": "python3"
  },
  "language_info": {
   "codemirror_mode": {
    "name": "ipython",
    "version": 3
   },
   "file_extension": ".py",
   "mimetype": "text/x-python",
   "name": "python",
   "nbconvert_exporter": "python",
   "pygments_lexer": "ipython3",
   "version": "3.10.9"
  },
  "orig_nbformat": 4
 },
 "nbformat": 4,
 "nbformat_minor": 2
}
